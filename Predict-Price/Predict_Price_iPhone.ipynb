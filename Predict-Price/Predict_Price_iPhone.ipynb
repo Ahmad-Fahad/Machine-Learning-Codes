{
 "cells": [
  {
   "cell_type": "code",
   "execution_count": 6,
   "id": "676ca636",
   "metadata": {},
   "outputs": [
    {
     "name": "stdout",
     "output_type": "stream",
     "text": [
      "[[1363.77855478]]\n",
      "[[1794.26806527]]\n",
      "[[2511.75058275]]\n"
     ]
    }
   ],
   "source": [
    "import pandas\n",
    "import matplotlib.pyplot as plt\n",
    "from sklearn.linear_model import LinearRegression\n",
    "data = pandas.read_csv('iphone_price.csv')\n",
    "model = LinearRegression()\n",
    "model.fit(data[['version']], data[['price']])\n",
    "print(model.predict([[14]]))\n",
    "print(model.predict([[20]]))\n",
    "print(model.predict([[30]]))\n",
    "#plt.scatter(data['version'], data['price'])\n",
    "#plt.barh(data['version'], data['price'])\n",
    "#plt.show()\n",
    "#print(data.head())\n"
   ]
  },
  {
   "cell_type": "code",
   "execution_count": null,
   "id": "cac9acc0",
   "metadata": {},
   "outputs": [],
   "source": [
    "# pandas : deals with data \n",
    "# scikit-learn : train data\n"
   ]
  },
  {
   "cell_type": "code",
   "execution_count": null,
   "id": "d2ba5eb1",
   "metadata": {},
   "outputs": [],
   "source": []
  }
 ],
 "metadata": {
  "kernelspec": {
   "display_name": "Python 3 (ipykernel)",
   "language": "python",
   "name": "python3"
  },
  "language_info": {
   "codemirror_mode": {
    "name": "ipython",
    "version": 3
   },
   "file_extension": ".py",
   "mimetype": "text/x-python",
   "name": "python",
   "nbconvert_exporter": "python",
   "pygments_lexer": "ipython3",
   "version": "3.9.7"
  }
 },
 "nbformat": 4,
 "nbformat_minor": 5
}
